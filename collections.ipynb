{
 "cells": [
  {
   "cell_type": "code",
   "execution_count": 19,
   "metadata": {},
   "outputs": [],
   "source": [
    "from collections import namedtuple\n",
    "from collections import Counter\n",
    "from collections import deque"
   ]
  },
  {
   "cell_type": "markdown",
   "metadata": {},
   "source": [
    "### Namedtuple"
   ]
  },
  {
   "cell_type": "code",
   "execution_count": 17,
   "metadata": {},
   "outputs": [
    {
     "data": {
      "text/plain": [
       "'red'"
      ]
     },
     "execution_count": 17,
     "metadata": {},
     "output_type": "execute_result"
    }
   ],
   "source": [
    "# Assign meaning to each position in a tuple and allow for more readable, self-documenting code.\n",
    "Car = namedtuple('Car' , 'color mileage')\n",
    "\n",
    "my_car = Car('red', 3812.4)\n",
    "my_car.color"
   ]
  },
  {
   "cell_type": "markdown",
   "metadata": {},
   "source": [
    "### Counter"
   ]
  },
  {
   "cell_type": "code",
   "execution_count": 14,
   "metadata": {},
   "outputs": [
    {
     "name": "stdout",
     "output_type": "stream",
     "text": [
      "Counter({'bread': 3, 'sword': 1})\n"
     ]
    }
   ],
   "source": [
    "# Support convenient and rapid tallies\n",
    "inventory = Counter()\n",
    "\n",
    "loot = {'sword': 1, 'bread': 3}\n",
    "inventory.update(loot)\n",
    "print(inventory) "
   ]
  },
  {
   "cell_type": "code",
   "execution_count": 15,
   "metadata": {},
   "outputs": [
    {
     "name": "stdout",
     "output_type": "stream",
     "text": [
      "Counter({'guitar': 100, 'bread': 3, 'sword': 2, 'apple': 1})\n"
     ]
    }
   ],
   "source": [
    "more_loot = {'sword': 1, 'apple': 1, 'guitar': 100}\n",
    "inventory.update(more_loot)\n",
    "print(inventory)"
   ]
  },
  {
   "cell_type": "markdown",
   "metadata": {},
   "source": [
    "### Deque"
   ]
  },
  {
   "cell_type": "code",
   "execution_count": 25,
   "metadata": {},
   "outputs": [
    {
     "name": "stdout",
     "output_type": "stream",
     "text": [
      "Init: deque(['g', 'h', 'i'])\n",
      "Append left & right: deque(['f', 'g', 'h', 'i', 'j'])\n",
      "Pop left & right: deque(['g', 'h', 'i'])\n",
      "Rotate right: deque(['i', 'g', 'h'])\n",
      "Rotate left: deque(['g', 'h', 'i'])\n"
     ]
    }
   ],
   "source": [
    "d = deque('ghi')                 # make a new deque with three items\n",
    "print('Init:', d)\n",
    "d.append('j')                    # add a new entry to the right side\n",
    "d.appendleft('f')                # add a new entry to the left side\n",
    "print('Append left & right:', d)     \n",
    "d.pop()                          # return and remove the rightmost item\n",
    "d.popleft() \n",
    "print('Pop left & right:', d)\n",
    "d.rotate(1) \n",
    "print('Rotate right:', d)\n",
    "d.rotate(-1)\n",
    "print('Rotate left:', d)"
   ]
  },
  {
   "cell_type": "code",
   "execution_count": null,
   "metadata": {},
   "outputs": [],
   "source": []
  },
  {
   "cell_type": "code",
   "execution_count": null,
   "metadata": {},
   "outputs": [],
   "source": []
  }
 ],
 "metadata": {
  "kernelspec": {
   "display_name": "Python 3",
   "language": "python",
   "name": "python3"
  },
  "language_info": {
   "codemirror_mode": {
    "name": "ipython",
    "version": 3
   },
   "file_extension": ".py",
   "mimetype": "text/x-python",
   "name": "python",
   "nbconvert_exporter": "python",
   "pygments_lexer": "ipython3",
   "version": "3.6.9"
  }
 },
 "nbformat": 4,
 "nbformat_minor": 2
}
